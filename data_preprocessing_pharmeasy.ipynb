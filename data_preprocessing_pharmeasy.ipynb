{
 "cells": [
  {
   "cell_type": "code",
   "execution_count": 1,
   "metadata": {},
   "outputs": [],
   "source": [
    "import numpy as np\n",
    "import pandas as pd\n",
    "import seaborn as sns\n",
    "import matplotlib.pyplot as plt"
   ]
  },
  {
   "cell_type": "code",
   "execution_count": 2,
   "metadata": {},
   "outputs": [],
   "source": [
    "df=pd.read_excel(r\"C:\\Users\\LENOVO\\Data_medlife.xlsx\")\n",
    "df1=pd.read_excel(r\"C:\\Users\\LENOVO\\Data_pharmeasy.xlsx\")\n",
    "               "
   ]
  },
  {
   "cell_type": "code",
   "execution_count": 3,
   "metadata": {},
   "outputs": [
    {
     "data": {
      "text/html": [
       "<div>\n",
       "<style scoped>\n",
       "    .dataframe tbody tr th:only-of-type {\n",
       "        vertical-align: middle;\n",
       "    }\n",
       "\n",
       "    .dataframe tbody tr th {\n",
       "        vertical-align: top;\n",
       "    }\n",
       "\n",
       "    .dataframe thead th {\n",
       "        text-align: right;\n",
       "    }\n",
       "</style>\n",
       "<table border=\"1\" class=\"dataframe\">\n",
       "  <thead>\n",
       "    <tr style=\"text-align: right;\">\n",
       "      <th></th>\n",
       "      <th>medName</th>\n",
       "      <th>medlife_price</th>\n",
       "      <th>manufacturer</th>\n",
       "      <th>Ingredients</th>\n",
       "      <th>medicineType</th>\n",
       "      <th>Pack Size</th>\n",
       "      <th>strength</th>\n",
       "      <th>pack_form</th>\n",
       "    </tr>\n",
       "  </thead>\n",
       "  <tbody>\n",
       "    <tr>\n",
       "      <th>0</th>\n",
       "      <td>3C3 0.0</td>\n",
       "      <td>17</td>\n",
       "      <td>SPA NEWTRACEUTICALS PVT LTD</td>\n",
       "      <td>VITAMIN</td>\n",
       "      <td>TABLET</td>\n",
       "      <td>10</td>\n",
       "      <td>0</td>\n",
       "      <td>Strip</td>\n",
       "    </tr>\n",
       "    <tr>\n",
       "      <th>1</th>\n",
       "      <td>A BEC 300 MG</td>\n",
       "      <td>1317.84</td>\n",
       "      <td>EMCURE PHARMACEUTICALS LTD</td>\n",
       "      <td>ABACAVIR</td>\n",
       "      <td>TABLET</td>\n",
       "      <td>30</td>\n",
       "      <td>300 MG</td>\n",
       "      <td>Strip</td>\n",
       "    </tr>\n",
       "    <tr>\n",
       "      <th>2</th>\n",
       "      <td>A BEC L</td>\n",
       "      <td>138.78</td>\n",
       "      <td>EMCURE PHARMACEUTICALS LTD</td>\n",
       "      <td>ABACAVIR</td>\n",
       "      <td>TABLET</td>\n",
       "      <td>30</td>\n",
       "      <td>Not Available</td>\n",
       "      <td>Strip</td>\n",
       "    </tr>\n",
       "    <tr>\n",
       "      <th>3</th>\n",
       "      <td>A CN 1/4 MG</td>\n",
       "      <td>116.1</td>\n",
       "      <td>ESKON PHARMA</td>\n",
       "      <td>CLINDAMYCIN</td>\n",
       "      <td>GEL</td>\n",
       "      <td>20 GM</td>\n",
       "      <td>1/4 MG</td>\n",
       "      <td>Tube</td>\n",
       "    </tr>\n",
       "    <tr>\n",
       "      <th>4</th>\n",
       "      <td>A TO Z GOLD</td>\n",
       "      <td>131.75</td>\n",
       "      <td>ALKEM LABORATORIES LTD</td>\n",
       "      <td>ALPHA</td>\n",
       "      <td>CAPSULE</td>\n",
       "      <td>15</td>\n",
       "      <td>Not Available</td>\n",
       "      <td>Bottle</td>\n",
       "    </tr>\n",
       "  </tbody>\n",
       "</table>\n",
       "</div>"
      ],
      "text/plain": [
       "        medName medlife_price                 manufacturer  Ingredients  \\\n",
       "0       3C3 0.0            17  SPA NEWTRACEUTICALS PVT LTD      VITAMIN   \n",
       "1  A BEC 300 MG       1317.84   EMCURE PHARMACEUTICALS LTD     ABACAVIR   \n",
       "2       A BEC L        138.78   EMCURE PHARMACEUTICALS LTD     ABACAVIR   \n",
       "3   A CN 1/4 MG         116.1                 ESKON PHARMA  CLINDAMYCIN   \n",
       "4   A TO Z GOLD        131.75       ALKEM LABORATORIES LTD        ALPHA   \n",
       "\n",
       "  medicineType Pack Size       strength pack_form  \n",
       "0       TABLET        10              0     Strip  \n",
       "1       TABLET        30         300 MG     Strip  \n",
       "2       TABLET        30  Not Available     Strip  \n",
       "3          GEL     20 GM         1/4 MG      Tube  \n",
       "4      CAPSULE        15  Not Available    Bottle  "
      ]
     },
     "execution_count": 3,
     "metadata": {},
     "output_type": "execute_result"
    }
   ],
   "source": [
    "df.head()"
   ]
  },
  {
   "cell_type": "code",
   "execution_count": 4,
   "metadata": {},
   "outputs": [
    {
     "data": {
      "text/html": [
       "<div>\n",
       "<style scoped>\n",
       "    .dataframe tbody tr th:only-of-type {\n",
       "        vertical-align: middle;\n",
       "    }\n",
       "\n",
       "    .dataframe tbody tr th {\n",
       "        vertical-align: top;\n",
       "    }\n",
       "\n",
       "    .dataframe thead th {\n",
       "        text-align: right;\n",
       "    }\n",
       "</style>\n",
       "<table border=\"1\" class=\"dataframe\">\n",
       "  <thead>\n",
       "    <tr style=\"text-align: right;\">\n",
       "      <th></th>\n",
       "      <th>medName</th>\n",
       "      <th>pharmeasy_price</th>\n",
       "      <th>manufacturer</th>\n",
       "      <th>salts</th>\n",
       "      <th>prescription_req</th>\n",
       "      <th>pack_size_label</th>\n",
       "      <th>in_stock</th>\n",
       "      <th>Strength</th>\n",
       "      <th>Pack Size</th>\n",
       "      <th>Pack Form</th>\n",
       "    </tr>\n",
       "  </thead>\n",
       "  <tbody>\n",
       "    <tr>\n",
       "      <th>0</th>\n",
       "      <td>A &amp; D Tab</td>\n",
       "      <td>51</td>\n",
       "      <td>MAKERS LABS</td>\n",
       "      <td>Vitamin  A  Vitamin  D3</td>\n",
       "      <td>No</td>\n",
       "      <td>1000 Tablet(s) in Strip</td>\n",
       "      <td>in stock</td>\n",
       "      <td>Not Available</td>\n",
       "      <td>1000</td>\n",
       "      <td>Strip</td>\n",
       "    </tr>\n",
       "    <tr>\n",
       "      <th>1</th>\n",
       "      <td>A 2 12mg Tab</td>\n",
       "      <td>31.89</td>\n",
       "      <td>AGRON REMEDIES</td>\n",
       "      <td>Atorvastatin  10  0  Mg  Amlodipine  5  0  Mg</td>\n",
       "      <td>No</td>\n",
       "      <td>1 Tablet(s) in Strip</td>\n",
       "      <td>in stock</td>\n",
       "      <td>12mg</td>\n",
       "      <td>1</td>\n",
       "      <td>Strip</td>\n",
       "    </tr>\n",
       "    <tr>\n",
       "      <th>2</th>\n",
       "      <td>A 24 250mg Tab</td>\n",
       "      <td>58.99</td>\n",
       "      <td>COMED CHEMICALS PVT LTD</td>\n",
       "      <td>Azithromycin  250  0  Mg</td>\n",
       "      <td>No</td>\n",
       "      <td>6 Tablet(s) in Strip</td>\n",
       "      <td>in stock</td>\n",
       "      <td>250mg</td>\n",
       "      <td>6</td>\n",
       "      <td>Strip</td>\n",
       "    </tr>\n",
       "    <tr>\n",
       "      <th>3</th>\n",
       "      <td>A 24 500mg Tab</td>\n",
       "      <td>55.21</td>\n",
       "      <td>COMED CHEMICALS PVT LTD</td>\n",
       "      <td>Azithromycin  500  0  Mg</td>\n",
       "      <td>No</td>\n",
       "      <td>3 Tablet(s) in Strip</td>\n",
       "      <td>in stock</td>\n",
       "      <td>500mg</td>\n",
       "      <td>3</td>\n",
       "      <td>Strip</td>\n",
       "    </tr>\n",
       "    <tr>\n",
       "      <th>4</th>\n",
       "      <td>A 24 500mg Tab 5's</td>\n",
       "      <td>99.15</td>\n",
       "      <td>NaN</td>\n",
       "      <td>Azithromycin  500  0  Mg</td>\n",
       "      <td>No</td>\n",
       "      <td>5 Tablet(s) in Strip</td>\n",
       "      <td>in stock</td>\n",
       "      <td>500mg</td>\n",
       "      <td>5</td>\n",
       "      <td>Strip</td>\n",
       "    </tr>\n",
       "  </tbody>\n",
       "</table>\n",
       "</div>"
      ],
      "text/plain": [
       "              medName pharmeasy_price             manufacturer  \\\n",
       "0           A & D Tab              51              MAKERS LABS   \n",
       "1        A 2 12mg Tab           31.89           AGRON REMEDIES   \n",
       "2      A 24 250mg Tab           58.99  COMED CHEMICALS PVT LTD   \n",
       "3      A 24 500mg Tab           55.21  COMED CHEMICALS PVT LTD   \n",
       "4  A 24 500mg Tab 5's           99.15                      NaN   \n",
       "\n",
       "                                           salts prescription_req  \\\n",
       "0                        Vitamin  A  Vitamin  D3               No   \n",
       "1  Atorvastatin  10  0  Mg  Amlodipine  5  0  Mg               No   \n",
       "2                       Azithromycin  250  0  Mg               No   \n",
       "3                       Azithromycin  500  0  Mg               No   \n",
       "4                       Azithromycin  500  0  Mg               No   \n",
       "\n",
       "           pack_size_label  in_stock       Strength Pack Size Pack Form  \n",
       "0  1000 Tablet(s) in Strip  in stock  Not Available      1000     Strip  \n",
       "1     1 Tablet(s) in Strip  in stock           12mg         1     Strip  \n",
       "2     6 Tablet(s) in Strip  in stock          250mg         6     Strip  \n",
       "3     3 Tablet(s) in Strip  in stock          500mg         3     Strip  \n",
       "4     5 Tablet(s) in Strip  in stock          500mg         5     Strip  "
      ]
     },
     "execution_count": 4,
     "metadata": {},
     "output_type": "execute_result"
    }
   ],
   "source": [
    "df1.head()"
   ]
  },
  {
   "cell_type": "code",
   "execution_count": 5,
   "metadata": {},
   "outputs": [
    {
     "data": {
      "text/plain": [
       "medName          object\n",
       "medlife_price    object\n",
       "manufacturer     object\n",
       "Ingredients      object\n",
       "medicineType     object\n",
       "Pack Size        object\n",
       "strength         object\n",
       "pack_form        object\n",
       "dtype: object"
      ]
     },
     "execution_count": 5,
     "metadata": {},
     "output_type": "execute_result"
    }
   ],
   "source": [
    "df.dtypes"
   ]
  },
  {
   "cell_type": "code",
   "execution_count": 6,
   "metadata": {},
   "outputs": [
    {
     "data": {
      "text/plain": [
       "medName             object\n",
       "pharmeasy_price     object\n",
       "manufacturer        object\n",
       "salts               object\n",
       "prescription_req    object\n",
       "pack_size_label     object\n",
       "in_stock            object\n",
       "Strength            object\n",
       "Pack Size           object\n",
       "Pack Form           object\n",
       "dtype: object"
      ]
     },
     "execution_count": 6,
     "metadata": {},
     "output_type": "execute_result"
    }
   ],
   "source": [
    "df1.dtypes"
   ]
  },
  {
   "cell_type": "code",
   "execution_count": 7,
   "metadata": {},
   "outputs": [
    {
     "data": {
      "text/plain": [
       "medName             0\n",
       "medlife_price       0\n",
       "manufacturer        0\n",
       "Ingredients       340\n",
       "medicineType        0\n",
       "Pack Size           0\n",
       "strength            0\n",
       "pack_form        2475\n",
       "dtype: int64"
      ]
     },
     "execution_count": 7,
     "metadata": {},
     "output_type": "execute_result"
    }
   ],
   "source": [
    "df.isnull().sum()"
   ]
  },
  {
   "cell_type": "code",
   "execution_count": 8,
   "metadata": {},
   "outputs": [
    {
     "data": {
      "text/plain": [
       "medName                0\n",
       "pharmeasy_price        0\n",
       "manufacturer        6681\n",
       "salts               3824\n",
       "prescription_req       0\n",
       "pack_size_label     9399\n",
       "in_stock               0\n",
       "Strength               0\n",
       "Pack Size              0\n",
       "Pack Form              0\n",
       "dtype: int64"
      ]
     },
     "execution_count": 8,
     "metadata": {},
     "output_type": "execute_result"
    }
   ],
   "source": [
    "df1.isnull().sum()"
   ]
  },
  {
   "cell_type": "code",
   "execution_count": 9,
   "metadata": {},
   "outputs": [],
   "source": [
    "dups=df.pivot_table(index=\"medName\",aggfunc='size')"
   ]
  },
  {
   "cell_type": "code",
   "execution_count": 10,
   "metadata": {},
   "outputs": [
    {
     "name": "stdout",
     "output_type": "stream",
     "text": [
      "medName\n",
      "3C3 0.0                     1\n",
      "A BEC 300 MG                1\n",
      "A BEC L                     1\n",
      "A CN 1/4 MG                 1\n",
      "A TO Z GOLD                 4\n",
      "                           ..\n",
      "ZYVANA M FORTE 2/1000 MG    1\n",
      "ZYVEC 10 MG                 1\n",
      "ZYVEN OD 100 MG             1\n",
      "ZYVEN OD 50 MG              1\n",
      "medlife_name                1\n",
      "Length: 28708, dtype: int64\n"
     ]
    }
   ],
   "source": [
    "print(dups)"
   ]
  },
  {
   "cell_type": "code",
   "execution_count": 15,
   "metadata": {},
   "outputs": [],
   "source": [
    "df.dropna(axis=0,inplace=True)\n",
    "df1.dropna(axis=0,inplace=True)"
   ]
  },
  {
   "cell_type": "code",
   "execution_count": 16,
   "metadata": {},
   "outputs": [
    {
     "data": {
      "text/plain": [
       "medName          0\n",
       "medlife_price    0\n",
       "manufacturer     0\n",
       "Ingredients      0\n",
       "medicineType     0\n",
       "Pack Size        0\n",
       "strength         0\n",
       "pack_form        0\n",
       "dtype: int64"
      ]
     },
     "execution_count": 16,
     "metadata": {},
     "output_type": "execute_result"
    }
   ],
   "source": [
    "df.isnull().sum()\n"
   ]
  },
  {
   "cell_type": "code",
   "execution_count": 17,
   "metadata": {},
   "outputs": [
    {
     "data": {
      "text/plain": [
       "medName             0\n",
       "pharmeasy_price     0\n",
       "manufacturer        0\n",
       "salts               0\n",
       "prescription_req    0\n",
       "pack_size_label     0\n",
       "in_stock            0\n",
       "Strength            0\n",
       "Pack Size           0\n",
       "Pack Form           0\n",
       "dtype: int64"
      ]
     },
     "execution_count": 17,
     "metadata": {},
     "output_type": "execute_result"
    }
   ],
   "source": [
    "df1.isnull().sum()"
   ]
  },
  {
   "cell_type": "code",
   "execution_count": 18,
   "metadata": {},
   "outputs": [],
   "source": [
    "dups_1=df.pivot_table(index='medName',aggfunc='size')"
   ]
  },
  {
   "cell_type": "code",
   "execution_count": 19,
   "metadata": {},
   "outputs": [
    {
     "name": "stdout",
     "output_type": "stream",
     "text": [
      "medName\n",
      "3C3 0.0                     1\n",
      "A BEC 300 MG                1\n",
      "A BEC L                     1\n",
      "A CN 1/4 MG                 1\n",
      "A TO Z GOLD                 4\n",
      "                           ..\n",
      "ZYVANA M 2 MG               1\n",
      "ZYVANA M FORTE 2/1000 MG    1\n",
      "ZYVEC 10 MG                 1\n",
      "ZYVEN OD 100 MG             1\n",
      "ZYVEN OD 50 MG              1\n",
      "Length: 27834, dtype: int64\n"
     ]
    }
   ],
   "source": [
    "print(dups_1)"
   ]
  },
  {
   "cell_type": "code",
   "execution_count": 20,
   "metadata": {},
   "outputs": [],
   "source": [
    "df.drop_duplicates(keep=False,inplace=True)"
   ]
  },
  {
   "cell_type": "code",
   "execution_count": 21,
   "metadata": {},
   "outputs": [],
   "source": [
    "df1.drop_duplicates(keep=False,inplace=True)"
   ]
  },
  {
   "cell_type": "code",
   "execution_count": 25,
   "metadata": {},
   "outputs": [
    {
     "name": "stderr",
     "output_type": "stream",
     "text": [
      "Exception ignored in: <bound method ZipFile.__del__ of <zipfile.ZipFile [closed]>>\n",
      "Traceback (most recent call last):\n",
      "  File \"C:\\Users\\LENOVO\\Anaconda\\lib\\zipfile.py\", line 1686, in __del__\n",
      "    self.close()\n",
      "  File \"C:\\Users\\LENOVO\\Anaconda\\lib\\zipfile.py\", line 1704, in close\n",
      "    self._write_end_record()\n",
      "  File \"C:\\Users\\LENOVO\\Anaconda\\lib\\zipfile.py\", line 1808, in _write_end_record\n",
      "    self.fp.write(endrec)\n",
      "  File \"C:\\Users\\LENOVO\\Anaconda\\lib\\zipfile.py\", line 746, in write\n",
      "    n = self.fp.write(data)\n",
      "  File \"C:\\Users\\LENOVO\\Anaconda\\lib\\site-packages\\pandas\\core\\generic.py\", line 5274, in __getattr__\n",
      "    return object.__getattribute__(self, name)\n",
      "AttributeError: 'DataFrame' object has no attribute 'write'\n"
     ]
    }
   ],
   "source": [
    "data_medlife_new=df.to_excel(r'C:\\Users\\LENOVO\\data_medlife_new.xlsx',sheet_name='Sheet1')"
   ]
  },
  {
   "cell_type": "code",
   "execution_count": 28,
   "metadata": {},
   "outputs": [],
   "source": [
    "data_pharmeasy_new=df1.to_excel(r'C:\\Users\\LENOVO\\data_pharmeasy_new.xlsx',sheet_name='Sheet2')"
   ]
  },
  {
   "cell_type": "code",
   "execution_count": null,
   "metadata": {},
   "outputs": [],
   "source": []
  }
 ],
 "metadata": {
  "kernelspec": {
   "display_name": "Python 3",
   "language": "python",
   "name": "python3"
  },
  "language_info": {
   "codemirror_mode": {
    "name": "ipython",
    "version": 3
   },
   "file_extension": ".py",
   "mimetype": "text/x-python",
   "name": "python",
   "nbconvert_exporter": "python",
   "pygments_lexer": "ipython3",
   "version": "3.6.10"
  }
 },
 "nbformat": 4,
 "nbformat_minor": 4
}
